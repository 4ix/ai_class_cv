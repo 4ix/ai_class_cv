{
 "cells": [
  {
   "cell_type": "code",
   "execution_count": 2,
   "metadata": {},
   "outputs": [],
   "source": [
    "import numpy as np"
   ]
  },
  {
   "cell_type": "code",
   "execution_count": 2,
   "metadata": {},
   "outputs": [
    {
     "name": "stdout",
     "output_type": "stream",
     "text": [
      "[0 1 2 3 4 5 6 7]\n"
     ]
    }
   ],
   "source": [
    "x_pixel = np.arange(0,8)\n",
    "print(x_pixel)"
   ]
  },
  {
   "cell_type": "code",
   "execution_count": 3,
   "metadata": {},
   "outputs": [
    {
     "name": "stdout",
     "output_type": "stream",
     "text": [
      "[ 0.   1.5  3.   4.5  6.   7.5  9.  10.5]\n"
     ]
    }
   ],
   "source": [
    "# 1.5베 확대한다 가정\n",
    "\n",
    "x_zoom = x_pixel * 1.5\n",
    "print(x_zoom) # 이렇게 하면 픽셀이 없어짐. hole 이라고 함."
   ]
  },
  {
   "cell_type": "code",
   "execution_count": 4,
   "metadata": {},
   "outputs": [
    {
     "name": "stdout",
     "output_type": "stream",
     "text": [
      "[ 0  1  2  3  4  5  6  7  8  9 10 11]\n"
     ]
    }
   ],
   "source": [
    "x_zoomed = np.arange(0, 12) # 미리 있다고 가정함\n",
    "print(x_zoomed)"
   ]
  },
  {
   "cell_type": "code",
   "execution_count": 6,
   "metadata": {},
   "outputs": [
    {
     "name": "stdout",
     "output_type": "stream",
     "text": [
      "[0.   0.67 1.33 2.   2.67 3.33 4.   4.67 5.33 6.   6.67 7.33]\n"
     ]
    }
   ],
   "source": [
    "x_original = x_zoomed / 1.5\n",
    "print(x_original.round(2)) # 빠지는 픽셀은 없음. 문제는 이상한 값이 생김."
   ]
  },
  {
   "cell_type": "code",
   "execution_count": 4,
   "metadata": {},
   "outputs": [],
   "source": [
    "import numpy as np\n",
    "import cv2\n",
    "import sys"
   ]
  },
  {
   "cell_type": "code",
   "execution_count": 7,
   "metadata": {},
   "outputs": [],
   "source": [
    "img = cv2.imread('./fig/ch2_fig/puppy.bmp', 0)\n",
    "img1 = img.copy()\n",
    "\n",
    "cv2.imshow('img', img)\n",
    "\n",
    "while True:\n",
    "    key = cv2.waitKey()\n",
    "\n",
    "    if key == 27:\n",
    "        break\n",
    "    elif key == ord('i'):\n",
    "        img = 255 - img\n",
    "        cv2.imshow('img', img)\n",
    "    elif key == ord('e'):\n",
    "        img = cv2.Canny(img, 50, 150)\n",
    "        cv2.imshow('img', img)\n",
    "    elif key == ord('r'):\n",
    "        img = img1.copy()\n",
    "        cv2.imshow('img', img)\n",
    "    \n",
    "\n",
    "\n",
    "cv2.waitKey()\n",
    "cv2.destroyAllWindows()"
   ]
  },
  {
   "cell_type": "markdown",
   "metadata": {},
   "source": [
    "### 동영상"
   ]
  },
  {
   "cell_type": "code",
   "execution_count": 14,
   "metadata": {},
   "outputs": [],
   "source": [
    "cap = cv2.VideoCapture(0)\n",
    "\n",
    "if not cap.isOpened():\n",
    "    print('Video open failed')\n",
    "    sys.exit()\n",
    "\n",
    "w = int(cap.get(cv2.CAP_PROP_FRAME_WIDTH))\n",
    "h = int(cap.get(cv2.CAP_PROP_FRAME_HEIGHT))\n",
    "fps = int(cap.get(cv2.CAP_PROP_FPS))\n",
    "fourcc = cv2.VideoWriter_fourcc(*'DIVX')\n",
    "\n",
    "out = cv2.VideoWriter('review.avi', fourcc, fps*0.7, (w, h))\n",
    "\n",
    "while True:\n",
    "    ret, frame = cap.read()\n",
    "\n",
    "    if not ret:\n",
    "        print('Frame read failed')\n",
    "        break\n",
    "    edge = cv2.Canny(frame, 20, 100)\n",
    "    edge = cv2.cvtColor(edge, cv2.COLOR_GRAY2BGR)\n",
    "\n",
    "    out.write(edge)\n",
    "\n",
    "    cv2.imshow('frame', frame)\n",
    "    cv2.imshow('edge', edge)\n",
    "\n",
    "    if cv2.waitKey(30) == 27:\n",
    "        break\n",
    "\n",
    "cap.release()\n",
    "out.release()\n",
    "cv2.destroyAllWindows()"
   ]
  },
  {
   "cell_type": "code",
   "execution_count": 29,
   "metadata": {},
   "outputs": [],
   "source": [
    "img = np.ones((600, 1200, 3), np.uint8) * 255\n",
    "\n",
    "cv2.line(img, (100, 100), (300, 100), (0, 0, 255), 10)\n",
    "cv2.arrowedLine(img, (300, 100), (250, 300), (255, 0, 0), 10, cv2.LINE_AA)\n",
    "cv2.rectangle(img, (200, 400), (400, 500), (0, 255, 0), -1)\n",
    "cv2.rectangle(img, (220, 420, 160, 60), (0, 255, 255), 10)\n",
    "cv2.circle(img, (600, 300), 100, (0, 0, 255), 10, cv2.LINE_AA)\n",
    "cv2.putText(img, 'Once upon a time', (300, 300), cv2.FONT_HERSHEY_DUPLEX, 2, (0, 0, 0), 2, cv2.LINE_AA)\n",
    "\n",
    "\n",
    "cv2.imshow('img', img)\n",
    "cv2.waitKey()\n",
    "cv2.destroyAllWindows()"
   ]
  },
  {
   "attachments": {},
   "cell_type": "markdown",
   "metadata": {},
   "source": [
    "### 알파채널"
   ]
  },
  {
   "cell_type": "code",
   "execution_count": 54,
   "metadata": {},
   "outputs": [],
   "source": [
    "src = cv2.imread('./fig/ch2_fig/imgbin_hat.png', cv2.IMREAD_UNCHANGED)\n",
    "dst = cv2.imread('./fig/ch2_fig/puppy.bmp')\n",
    "\n",
    "\n",
    "h, w = dst.shape[:2]\n",
    "src = cv2.resize(src, (w//2, h//2), cv2.INTER_AREA)\n",
    "\n",
    "src_hat = src[:, :, :-1]\n",
    "src_mask = src[:, :, :1]\n",
    "\n",
    "h1, w1 = src_hat.shape[:2]\n",
    "\n",
    "dst_crop = dst[100:100+h1, 200:200+w1]\n",
    "\n",
    "cv2.copyTo(src_hat, src_mask, dst_crop)\n",
    "\n",
    "cv2.imshow('dst', dst)\n",
    "\n",
    "cv2.waitKey()\n",
    "cv2.destroyAllWindows()"
   ]
  },
  {
   "cell_type": "code",
   "execution_count": 3,
   "metadata": {},
   "outputs": [],
   "source": [
    "import os"
   ]
  },
  {
   "cell_type": "code",
   "execution_count": null,
   "metadata": {},
   "outputs": [],
   "source": [
    "img_list = os.listdir('./fig/my_images/')\n",
    "img_paths = []\n",
    "for i in img_list:\n",
    "    img_path = './fig/my_images/' + i\n",
    "    img_paths.append(img_path)\n",
    "\n",
    "print(img_paths)\n",
    "\n",
    "cv2.namedWindow('img', cv2.WINDOW_NORMAL)\n",
    "cv2.setWindowProperty('img', cv2.WND_PROP_FULLSCREEN, cv2.WINDOW_FULLSCREEN)\n",
    "\n",
    "idx = 0\n",
    "\n",
    "while True:\n",
    "    img = cv2.imread(img_paths[idx])\n",
    "    \n",
    "    if img is None:\n",
    "        print('imgage load failed')\n",
    "        sys.exit()\n",
    "    \n",
    "    cv2.imshow('img', img)\n",
    "\n",
    "    if cv2.waitKey(3000) == 27:\n",
    "        break\n",
    "    idx += 1\n",
    "    if idx >= len(img_paths):\n",
    "        idx = 0\n",
    "    cv2.destroyAllWindows()\n"
   ]
  },
  {
   "attachments": {},
   "cell_type": "markdown",
   "metadata": {},
   "source": [
    "### 동영상(키 입력)"
   ]
  },
  {
   "cell_type": "code",
   "execution_count": 4,
   "metadata": {},
   "outputs": [],
   "source": [
    "cap = cv2.VideoCapture(0)\n",
    "\n",
    "if not cap.isOpened():\n",
    "    print('open failed')\n",
    "    sys.exit()\n",
    "\n",
    "f_flag = False\n",
    "i_flag = False\n",
    "\n",
    "while True:\n",
    "    ret, frame = cap.read()\n",
    "\n",
    "    if not ret:\n",
    "        print('frame read failed')\n",
    "        break\n",
    "    if f_flag == True:\n",
    "        frame = cv2.flip(frame, 1)\n",
    "    if i_flag == True:\n",
    "        frame = cv2.Canny(frame, 50, 150)\n",
    "\n",
    "    cv2.imshow('frame', frame)\n",
    "\n",
    "    key = cv2.waitKey(20)\n",
    "    \n",
    "    if key == 27:\n",
    "        break\n",
    "    elif key == ord('f'):\n",
    "        f_flag = not f_flag\n",
    "    elif key == ord('i'):\n",
    "        i_flag = not i_flag\n",
    "\n",
    "    \n",
    "cap.release()\n",
    "cv2.destroyAllWindows()"
   ]
  },
  {
   "attachments": {},
   "cell_type": "markdown",
   "metadata": {},
   "source": [
    "### 마우스 콜백"
   ]
  },
  {
   "cell_type": "code",
   "execution_count": null,
   "metadata": {},
   "outputs": [],
   "source": [
    "def call_mouse(event, x, y, flags, param):\n",
    "    if event == cv2.EVENT_LBUTTONDOWN:\n",
    "        print(f'left button clicked = {x}, {y}')\n",
    "    elif event == cv2.EVENT_LBUTTONUP:\n",
    "        print(f'left button up = {x}, {y}')\n",
    "    elif event == cv2.EVENT_MOUSEMOVE:\n",
    "        if flags == cv2.EVENT_FLAG_LBUTTON:\n",
    "            print(f'moving = {x}, {y}')\n",
    "\n",
    "\n",
    "\n",
    "\n",
    "img = np.ones((480, 640, 3), np.uint8) * 255\n",
    "\n",
    "cv2.namedWindow('img')\n",
    "cv2.setMouseCallback('img', call_mouse, img)\n",
    "\n",
    "cv2.imshow('img', img)\n",
    "\n",
    "cv2.waitKey()\n",
    "cv2.destroyAllWindows()"
   ]
  },
  {
   "cell_type": "code",
   "execution_count": 5,
   "metadata": {},
   "outputs": [],
   "source": [
    "def call_mouse(event, x, y, flags, param):\n",
    "    global old_x, old_y\n",
    "    global color, thik\n",
    "    if event == cv2.EVENT_LBUTTONDOWN:\n",
    "        old_x , old_y = x, y\n",
    "    elif event == cv2.EVENT_MOUSEMOVE:\n",
    "        if flags == cv2.EVENT_FLAG_LBUTTON:\n",
    "            cv2.line(img, (old_x, old_y), (x, y), color, thik, cv2.LINE_AA)\n",
    "            cv2.imshow('img', img)\n",
    "            old_x, old_y = x, y\n",
    "\n",
    "img = np.ones((600,600,3), np.uint8) * 255\n",
    "\n",
    "cv2.namedWindow('img')\n",
    "cv2.setMouseCallback('img', call_mouse, img)\n",
    "\n",
    "color = (0,0, 255)\n",
    "thik = 4\n",
    "\n",
    "while True:\n",
    "    cv2.imshow('img', img)\n",
    "    key = cv2.waitKey()\n",
    "    if key == 27:\n",
    "        break\n",
    "    elif key == ord('s'):\n",
    "        cv2.imwrite('./fig/save_img.png', img) # 이미지 저장 방법\n",
    "        print('image was saved')\n",
    "    elif key == ord('1'):\n",
    "        color = (255, 0, 0)\n",
    "    elif key == ord('2'):\n",
    "        color = (0, 255, 0)\n",
    "    elif key == ord('3'):\n",
    "        color = (0, 0, 255)\n",
    "    elif key == ord('4'):\n",
    "        color = (255, 255, 255)\n",
    "    elif key == ord('5'):\n",
    "        color = (0, 0, 0)\n",
    "    elif key == ord('+'):\n",
    "        thik += 1\n",
    "    elif key == ord('-'):\n",
    "        thik -= 1\n",
    "\n",
    "cv2.destroyAllWindows()"
   ]
  }
 ],
 "metadata": {
  "kernelspec": {
   "display_name": "cv",
   "language": "python",
   "name": "python3"
  },
  "language_info": {
   "codemirror_mode": {
    "name": "ipython",
    "version": 3
   },
   "file_extension": ".py",
   "mimetype": "text/x-python",
   "name": "python",
   "nbconvert_exporter": "python",
   "pygments_lexer": "ipython3",
   "version": "3.10.9"
  },
  "orig_nbformat": 4,
  "vscode": {
   "interpreter": {
    "hash": "746e6b89fd5adf389297a0a37c74eda59384d84e37ecdb7688103cb0ee8bd69f"
   }
  }
 },
 "nbformat": 4,
 "nbformat_minor": 2
}
