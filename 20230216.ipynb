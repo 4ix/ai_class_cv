{
 "cells": [
  {
   "cell_type": "code",
   "execution_count": 4,
   "metadata": {},
   "outputs": [],
   "source": [
    "import cv2"
   ]
  },
  {
   "cell_type": "code",
   "execution_count": 5,
   "metadata": {},
   "outputs": [],
   "source": [
    "src = cv2.imread('./fig/ch2_fig/cat.bmp', cv2.IMREAD_GRAYSCALE)\n",
    "\n",
    "if src is None:\n",
    "    print('image read failed')\n",
    "    exit()\n",
    "\n",
    "# cv2.imshow('src', src)\n",
    "current = src.copy()\n",
    "while True:\n",
    "    cv2.imshow('src', current)\n",
    "    key = cv2.waitKey()\n",
    "    \n",
    "    if key == ord('i'):\n",
    "        current = 255 - current\n",
    "        # cv2.imshow('src', current)\n",
    "    elif key == ord('e'):\n",
    "        current = cv2.Canny(current, 50, 150)\n",
    "        # cv2.imshow('src', current)\n",
    "    elif key == ord('r'):\n",
    "        current = cv2.rotate(current, cv2.ROTATE_90_CLOCKWISE)\n",
    "        # cv2.imshow('src', current)\n",
    "    elif key == ord('g'):\n",
    "        current = cv2.GaussianBlur(current, (0, 0), 1)\n",
    "        # cv2.imshow('src', current)\n",
    "    elif key == ord('v'):\n",
    "        current = current[::-1]\n",
    "        # cv2.imshow('src', current)\n",
    "    elif key == ord('h'):\n",
    "        current = current[:,::-1]\n",
    "        # cv2.imshow('src', current)\n",
    "    elif key == ord(' '):\n",
    "        current = src\n",
    "        # cv2.imshow('src', current)\n",
    "    elif key == 27:\n",
    "        break\n",
    "cv2.destroyAllWindows()"
   ]
  }
 ],
 "metadata": {
  "kernelspec": {
   "display_name": "cv",
   "language": "python",
   "name": "python3"
  },
  "language_info": {
   "codemirror_mode": {
    "name": "ipython",
    "version": 3
   },
   "file_extension": ".py",
   "mimetype": "text/x-python",
   "name": "python",
   "nbconvert_exporter": "python",
   "pygments_lexer": "ipython3",
   "version": "3.10.9"
  },
  "orig_nbformat": 4,
  "vscode": {
   "interpreter": {
    "hash": "746e6b89fd5adf389297a0a37c74eda59384d84e37ecdb7688103cb0ee8bd69f"
   }
  }
 },
 "nbformat": 4,
 "nbformat_minor": 2
}
